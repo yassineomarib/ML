{
  "nbformat": 4,
  "nbformat_minor": 0,
  "metadata": {
    "colab": {
      "name": "Copy of lab_eeg_partial.ipynb",
      "version": "0.3.2",
      "provenance": [],
      "include_colab_link": true
    },
    "kernelspec": {
      "display_name": "Python 3",
      "language": "python",
      "name": "python3"
    }
  },
  "cells": [
    {
      "cell_type": "markdown",
      "metadata": {
        "id": "view-in-github",
        "colab_type": "text"
      },
      "source": [
        "<a href=\"https://colab.research.google.com/github/yassineomarib/ML/blob/master/Copy_of_lab_eeg_partial.ipynb\" target=\"_parent\"><img src=\"https://colab.research.google.com/assets/colab-badge.svg\" alt=\"Open In Colab\"/></a>"
      ]
    },
    {
      "metadata": {
        "id": "ACI1w-W80mU6",
        "colab_type": "text"
      },
      "cell_type": "markdown",
      "source": [
        "# Lab:  Source Localization for EEG\n",
        "\n",
        "EEG or [Electroencephalography](https://en.wikipedia.org/wiki/Electroencephalography) is a powerful tool for neuroscientists in understanding brain activity.  In EEG, a patient wears a headset with electrodes that measures voltages at a number of points on the scalp.  These voltages arise from ionic currents within the brain.  A common *inverse problem* is to estimate the which parts of the brain caused the measured response.  Source localization is useful in understanding which parts of the brain are involved in certain tasks.  A key challenge in this inverse problem is that the number of unknowns (possible locations in the brain) is much larger than the number of measurements.  In this lab, we will use LASSO regression on a real EEG dataset to overcome this problem and determine the brain region that is active under an auditory stimulus.\n",
        "\n",
        "In addition to the concepts in the [prostate LASSO demo](./demo_prostate.ipynb) you will learn to:\n",
        "* Represent responses of multi-channel time-series data, such as EEG, using linear models\n",
        "* Perform LASSO and Ridge regression\n",
        "* Select the regularization level via cross-validation\n",
        "* Visually compare the sparsity between the solutions\n",
        "\n",
        "We first download standard packages."
      ]
    },
    {
      "metadata": {
        "id": "icvYB85v0mU8",
        "colab_type": "code",
        "colab": {}
      },
      "cell_type": "code",
      "source": [
        "import numpy as np\n",
        "import matplotlib.pyplot as plt\n",
        "import pickle\n",
        "\n",
        "from sklearn.linear_model import Lasso, Ridge, ElasticNet\n",
        "from sklearn.metrics import r2_score\n",
        "from sklearn.model_selection import train_test_split"
      ],
      "execution_count": 0,
      "outputs": []
    },
    {
      "metadata": {
        "id": "ErSKd-Z80mU-",
        "colab_type": "text"
      },
      "cell_type": "markdown",
      "source": [
        "## Load the Data\n",
        "\n",
        "The data in this lab is taken from one of the sample datasets in the [MNE website](https://martinos.org/mne/stable/index.html). The sample data is a recording from one subject who experienced some auditory stimulus on the left ear.    \n",
        "\n",
        "The raw data is very large (`1.5G`) and also requires that you install the `mne` python package. To make this lab easier, I have extracted and processed a small section of the data. The following command will download a `pickle` file `eeg_dat.p` to your local machine.  If you do want to create the data yourself, the program to create the data is in this directory in the github repository."
      ]
    },
    {
      "metadata": {
        "id": "XTXA1x9O0mU_",
        "colab_type": "code",
        "outputId": "499718e0-6b06-45bd-8166-43a89df33070",
        "colab": {
          "base_uri": "https://localhost:8080/",
          "height": 34
        }
      },
      "cell_type": "code",
      "source": [
        "fn_src ='https://drive.google.com/uc?export=download&id=1RzQpKONOcXSMxH2ZzOI4iVMiTgD6ttSl'\n",
        "fn_dst ='eeg_dat.p'\n",
        "\n",
        "import os\n",
        "from six.moves import urllib\n",
        "\n",
        "if os.path.isfile(fn_dst):\n",
        "    print('File %s is already downloaded' % fn_dst)\n",
        "else:        \n",
        "    print('Fetching file %s [53MB].  This may take a minute..' % fn_dst)\n",
        "    urllib.request.urlretrieve(fn_src, fn_dst)\n",
        "    print('File %s downloaded' % fn_dst)"
      ],
      "execution_count": 0,
      "outputs": [
        {
          "output_type": "stream",
          "text": [
            "File eeg_dat.p is already downloaded\n"
          ],
          "name": "stdout"
        }
      ]
    },
    {
      "metadata": {
        "id": "LWFFX6lS0mVE",
        "colab_type": "text"
      },
      "cell_type": "markdown",
      "source": [
        "Now run the following command which will get the data from the `pickle` file."
      ]
    },
    {
      "metadata": {
        "id": "IjufhFKj0mVF",
        "colab_type": "code",
        "colab": {}
      },
      "cell_type": "code",
      "source": [
        "import pickle\n",
        "fn = 'eeg_dat.p'\n",
        "with open(fn, 'rb') as fp:\n",
        "    [X,Y] = pickle.load(fp)"
      ],
      "execution_count": 0,
      "outputs": []
    },
    {
      "metadata": {
        "id": "stOEhC4S0mVH",
        "colab_type": "text"
      },
      "cell_type": "markdown",
      "source": [
        "To understand the data, there are three key variables:\n",
        "* `nt`    = number of time steps that we measure data\n",
        "* `nchan` = number of channels (i.e. electrodes) measured in each time step\n",
        "* `ncur`  = number of currents in the brain that we want to estimate.  \n",
        "\n",
        "Each current comes from one brain region (called a *voxel*) in either the `x`, `y` or `z` direction.  So,\n",
        "\n",
        "    nvoxels = ncur / 3\n",
        "    \n",
        "The components of the `X` and `Y` matrices are:\n",
        "*  `Y[i,k]` = electric field measurement on channel `i` at time `k`\n",
        "*  `X[i,j]` = sensitivity of channel `i` to current `j`.\n",
        "\n",
        "Using `X.shape` and `Y.shape` compute and print `nt`, `nchan`, `ncur` and `nvoxels`."
      ]
    },
    {
      "metadata": {
        "id": "c9dx99U70mVI",
        "colab_type": "code",
        "outputId": "ad1a1b47-037e-4ebf-d187-0383a705ed0c",
        "colab": {
          "base_uri": "https://localhost:8080/",
          "height": 84
        }
      },
      "cell_type": "code",
      "source": [
        "# TODO\n",
        "# nt = ...\n",
        "# ncur = ...\n",
        "# nchan = ...\n",
        "# nvoxels\n",
        "\n",
        "nt = Y.shape[0]\n",
        "nchan, ncur = X.shape\n",
        "nvoxels = ncur//3\n",
        "\n",
        "print('nt = '+ str(nt))\n",
        "print('ncur = '+ str(ncur))\n",
        "print('nchan = '+ str(nchan))\n",
        "print('nvoxels = '+ str(nvoxels))"
      ],
      "execution_count": 0,
      "outputs": [
        {
          "output_type": "stream",
          "text": [
            "nt = 305\n",
            "ncur = 22494\n",
            "nchan = 305\n",
            "nvoxels = 7498\n"
          ],
          "name": "stdout"
        }
      ]
    },
    {
      "metadata": {
        "id": "lM1y-f1m0mVL",
        "colab_type": "text"
      },
      "cell_type": "markdown",
      "source": [
        "## Ridge Regression\n",
        "\n",
        "Our goal is to estimate the currents in the brain from the measurements `Y`.  One simple linear model is:\n",
        "\n",
        "    Y[i,k]  = \\sum_j X[i,j]*W[j,k]+ b[k]\n",
        "\n",
        "where `W[j,k]` is the value of current `j` at time `k` and `b[k]` is a bias.  We can solve for the current matrix `W` via linear regression.  \n",
        "\n",
        "Howeever, there is a problem:\n",
        "*  There are `nt x ncur` unknowns in `W`\n",
        "*  There are only `nt x nchan` measurements in `Y`.\n",
        "\n",
        "In this problem, we have:\n",
        "\n",
        "    number of measurements  << number of unknowns\n",
        "    \n",
        "We need to use regularization in these circumstances.  We first try Ridge regression.\n",
        "\n",
        "First split the data into training and test.  Use the `train_test_split` function with `test_size=0.33`."
      ]
    },
    {
      "metadata": {
        "id": "3LXlsHKV0mVL",
        "colab_type": "code",
        "colab": {}
      },
      "cell_type": "code",
      "source": [
        "# TODO\n",
        "# Xtr,Xts,Ytr,Yts = train_test_split(...) \n",
        "Xtr,Xts,Ytr,Yts = train_test_split(X, Y, test_size=0.33) \n"
      ],
      "execution_count": 0,
      "outputs": []
    },
    {
      "metadata": {
        "id": "rao1NyCo0mVO",
        "colab_type": "text"
      },
      "cell_type": "markdown",
      "source": [
        "Use the `Ridge` regression object in `sklearn` to fit the model on the training data.  Use a regularization, `alpha=1`."
      ]
    },
    {
      "metadata": {
        "id": "u-0tcRMl0mVO",
        "colab_type": "code",
        "colab": {}
      },
      "cell_type": "code",
      "source": [
        "# TODO\n",
        "regr = Ridge(alpha=1.0)"
      ],
      "execution_count": 0,
      "outputs": []
    },
    {
      "metadata": {
        "id": "ewfT50BF0mVT",
        "colab_type": "text"
      },
      "cell_type": "markdown",
      "source": [
        "Preict the values `Y` on both the training and test data.  Use the `r2_score` method to measure the `R^2` value on both the training and test.  You will see that `R^2` value is large for the training data, it is very low for the test data.  This suggest that even with regularization, the model is over-fitting the data."
      ]
    },
    {
      "metadata": {
        "id": "rpN8QqLd0mVV",
        "colab_type": "code",
        "outputId": "8d525370-8175-4c2c-fd38-eedcef8a1d62",
        "colab": {
          "base_uri": "https://localhost:8080/",
          "height": 50
        }
      },
      "cell_type": "code",
      "source": [
        "# TODO\n",
        "# rsq_tr = ...\n",
        "# rsq_ts = ...\n",
        "\n",
        "regr.fit(Xtr,Ytr)\n",
        "\n",
        "Yhat_ts = regr.predict(Xts)\n",
        "Yhat_tr = regr.predict(Xtr)\n",
        "\n",
        "rsq_tr = r2_score(Ytr, Yhat_tr)\n",
        "rsq_ts = r2_score(Yts, Yhat_ts)\n",
        "\n",
        "print('rsq_tr = ' + str(rsq_tr))\n",
        "print('rsq_ts = ' + str(rsq_ts))"
      ],
      "execution_count": 0,
      "outputs": [
        {
          "output_type": "stream",
          "text": [
            "rsq_tr = 0.5979784805123082\n",
            "rsq_ts = 0.13359500218723427\n"
          ],
          "name": "stdout"
        }
      ]
    },
    {
      "metadata": {
        "id": "VkG82lnQ0mVY",
        "colab_type": "text"
      },
      "cell_type": "markdown",
      "source": [
        "Next, try to see if we can get a better `R^2` score using different values of `alpha`.  Use cross-validation to measure the test `R^2` for 20 `alpha` values logarithmically spaced from `10^{-2}` to `10^{2}` (use `np.logspace()`).  You can use regular cross-validation.  You do not need to do `K`-fold."
      ]
    },
    {
      "metadata": {
        "id": "k86x8M9H0mVZ",
        "colab_type": "code",
        "colab": {}
      },
      "cell_type": "code",
      "source": [
        "# TODO\n",
        "alpha_test = np.logspace(-2, 2, 20)\n",
        "R2 = [0]*len(alpha_test)\n",
        "\n",
        "for id, alpha in enumerate(alpha_test):\n",
        "  regr = Ridge(alpha=alpha)\n",
        "  regr.fit(Xtr,Ytr)\n",
        "  Yhat = regr.predict(Xts)\n",
        "  rsq = r2_score(Yts, Yhat)\n",
        "  R2[id] = rsq\n",
        "  \n"
      ],
      "execution_count": 0,
      "outputs": []
    },
    {
      "metadata": {
        "id": "7Wl-X3S10mVe",
        "colab_type": "text"
      },
      "cell_type": "markdown",
      "source": [
        "Plot the test `R^2` vs. `alpha`.  And print the maximum test `R^2`.  You should see that the maximum test `R^2` is still not very high."
      ]
    },
    {
      "metadata": {
        "id": "jlaPUXeo0mVf",
        "colab_type": "code",
        "outputId": "af24ab43-c9ab-4988-bf7e-c5ac9e8ed1ef",
        "colab": {
          "base_uri": "https://localhost:8080/",
          "height": 218
        }
      },
      "cell_type": "code",
      "source": [
        "# TODO\n",
        "plt.subplot(221)\n",
        "plt.plot(alpha_test, R2)\n",
        "plt.xlabel('alpha')\n",
        "plt.ylabel(\"R^2\")\n",
        "plt.subplot(222)\n",
        "plt.semilogx(alpha_test, R2)\n",
        "plt.xlabel('alpha - semilog')\n",
        "plt.ylabel(\"R^2\")\n",
        "R2_max = max(R2)\n",
        "\n",
        "print(\"The maximum test R^2 = \" + str(R2_max) )"
      ],
      "execution_count": 0,
      "outputs": [
        {
          "output_type": "stream",
          "text": [
            "The maximum test R^2 = 0.15454417029415382\n"
          ],
          "name": "stdout"
        },
        {
          "output_type": "display_data",
          "data": {
            "image/png": "[encoded data removed]",
            "text/plain": [
              "<Figure size 576x396 with 2 Axes>"
            ]
          },
          "metadata": {
            "tags": []
          }
        }
      ]
    },
    {
      "metadata": {
        "id": "9PJMeo0w0mVh",
        "colab_type": "text"
      },
      "cell_type": "markdown",
      "source": [
        "\"Now, let's take a look at the solution. \n",
        "\n",
        "* Find the optimal regularization `alpha` from the cross-validation\n",
        "* Re-fit the model at the optimal `alpha`\n",
        "* Get the current matrix `W` from the coefficients in the linear model.  These are stored in `regr.coef_`.  You may need a transpose\n",
        "* For each current `j` compute `Wrms[j] =  sqrt( sum_k W[j,k]**2 )` which is root mean squared current.\n",
        "\n",
        "You will see that the vector `Wrms` is not sparse.  This means that the solution that is found with Ridge regression finds currents in all locations."
      ]
    },
    {
      "metadata": {
        "id": "jPyDUQek0mVh",
        "colab_type": "code",
        "colab": {}
      },
      "cell_type": "code",
      "source": [
        "# TODO\n",
        "id_opt = np.argmax(R2)\n",
        "alpha_opt = alpha_test[id_opt]\n",
        "regr_opt = Ridge(alpha=alpha_opt)\n",
        "regr_opt.fit(Xtr,Ytr)\n",
        "W = (regr_opt.coef_).transpose()\n",
        "Wrms = [sum(W[j,:]**2) for j in range(ncur)]"
      ],
      "execution_count": 0,
      "outputs": []
    },
    {
      "metadata": {
        "id": "wzdEYfS20mVj",
        "colab_type": "text"
      },
      "cell_type": "markdown",
      "source": [
        "## LASSO Regression\n",
        "\n",
        "We can improve the estimate by imposing sparsity.  Biologically, we know that only a limited number of brain regions should be involved in the reponse to a particular stimuli.  As a result, we would expect that the current matrix `W[j,k]` to be zero for most values `j,k`.  We can impose this constraint using LASSO regularization.\n",
        "\n",
        "Re-fit the training data using the `Lasso` model with `alpha=1e-3`.  Also set `max_iter=100` and `tol=0.01`.  The LASSO solver is much slower, so this make take a minute."
      ]
    },
    {
      "metadata": {
        "id": "gT0bLpsk0mVk",
        "colab_type": "code",
        "outputId": "6c3902d9-4475-45a5-9ecd-1fe94671231f",
        "colab": {
          "base_uri": "https://localhost:8080/",
          "height": 67
        }
      },
      "cell_type": "code",
      "source": [
        "# TODO\n",
        "\n",
        "mod = Lasso(alpha=1e-3, max_iter=100, tol=0.01)\n",
        "mod.fit(Xtr, Ytr)"
      ],
      "execution_count": 0,
      "outputs": [
        {
          "output_type": "execute_result",
          "data": {
            "text/plain": [
              "Lasso(alpha=0.001, copy_X=True, fit_intercept=True, max_iter=100,\n",
              "   normalize=False, positive=False, precompute=False, random_state=None,\n",
              "   selection='cyclic', tol=0.01, warm_start=False)"
            ]
          },
          "metadata": {
            "tags": []
          },
          "execution_count": 11
        }
      ]
    },
    {
      "metadata": {
        "id": "QimwTBOZ0mVl",
        "colab_type": "text"
      },
      "cell_type": "markdown",
      "source": [
        "Now, test the model on the test data and measure the `R^2` value.  You should get a much better fit than with the Ridge regression solution.  "
      ]
    },
    {
      "metadata": {
        "id": "pAugy7T90mVm",
        "colab_type": "code",
        "outputId": "bbab2312-0ba3-4d97-87a7-5bf2d7fa64d6",
        "colab": {
          "base_uri": "https://localhost:8080/",
          "height": 34
        }
      },
      "cell_type": "code",
      "source": [
        "# TODO\n",
        "Ylasso = mod.predict(Xts)\n",
        "rsq = r2_score(Yts, Ylasso)\n",
        "\n",
        "print('rsq = ' + str(rsq))"
      ],
      "execution_count": 0,
      "outputs": [
        {
          "output_type": "stream",
          "text": [
            "rsq = 0.1108692953249878\n"
          ],
          "name": "stdout"
        }
      ]
    },
    {
      "metadata": {
        "id": "rWPqPAbt0mVp",
        "colab_type": "text"
      },
      "cell_type": "markdown",
      "source": [
        "We can now search for the optimal `alpha`.  Use cross-validation to find the `alpha` logarithically space between `alpha=10^{-3}` and `alpha=10^{-4}`.  Each fit takes some time, so use only 5 values of `alpha`. Also for each `alpha` store the current matrix.  This way, you will not have to re-fit the model."
      ]
    },
    {
      "metadata": {
        "id": "bbJfuvIo0mVp",
        "colab_type": "code",
        "outputId": "b8fce9d1-785d-41f2-e41f-af927f3efd9b",
        "colab": {
          "base_uri": "https://localhost:8080/",
          "height": 34
        }
      },
      "cell_type": "code",
      "source": [
        "# TODO\n",
        "alpha_testl = np.logspace(-4, -3, 5)\n",
        "R2l = [0]*len(alpha_testl)\n",
        "Wl = []\n",
        "for id, alpha in enumerate(alpha_testl):\n",
        "  mod = Lasso(alpha=alpha, max_iter=100, tol=0.01)\n",
        "  mod.fit(Xtr,Ytr)\n",
        "  Wl.append((mod.coef_.transpose()))\n",
        "  Yhat = mod.predict(Xts)\n",
        "  rsq = r2_score(Yts, Yhat)\n",
        "  R2l[id] = rsq\n",
        "\n",
        "id_optl = np.argmax(R2l)\n",
        "alpha_lasso = alpha_test[id_optl]\n",
        "print (\"The optimal alpha is alpha = \" + str(alpha_lasso))"
      ],
      "execution_count": 0,
      "outputs": [
        {
          "output_type": "stream",
          "text": [
            "The optimal alpha is alpha = 0.016237767391887217\n"
          ],
          "name": "stdout"
        }
      ]
    },
    {
      "metadata": {
        "id": "i5K8byar0mVs",
        "colab_type": "text"
      },
      "cell_type": "markdown",
      "source": [
        "Plot the `r^2` value vs. `alpha`.  Print the optimal `r^2`.  You should see it is much higher than with the best Ridge Regression case."
      ]
    },
    {
      "metadata": {
        "id": "0BQ19GXU0mVs",
        "colab_type": "code",
        "outputId": "e238f9ee-d9d7-447b-b1f1-090239771cd3",
        "colab": {
          "base_uri": "https://localhost:8080/",
          "height": 218
        }
      },
      "cell_type": "code",
      "source": [
        "# TODO\n",
        "plt.subplot(221)\n",
        "plt.plot(alpha_testl, R2l)\n",
        "plt.xlabel('alpha')\n",
        "plt.ylabel(\"R^2\")\n",
        "plt.subplot(222)\n",
        "plt.semilogx(alpha_testl, R2l)\n",
        "plt.xlabel('alpha - semilog')\n",
        "plt.ylabel(\"R^2\")\n",
        "R2_max = max(R2l)\n",
        "\n",
        "print(\"The maximum test R^2 = \" + str(R2_max) )"
      ],
      "execution_count": 0,
      "outputs": [
        {
          "output_type": "stream",
          "text": [
            "The maximum test R^2 = 0.3117804586679194\n"
          ],
          "name": "stdout"
        },
        {
          "output_type": "display_data",
          "data": {
            "image/png": "[encoded data removed]",
            "text/plain": [
              "<Figure size 576x396 with 2 Axes>"
            ]
          },
          "metadata": {
            "tags": []
          }
        }
      ]
    },
    {
      "metadata": {
        "id": "Oyp7tZOw0mVx",
        "colab_type": "text"
      },
      "cell_type": "markdown",
      "source": [
        "Display the current matrix `W` for the optimal `alpha` as you did in the Ridge Regression case.  You will see that is much sparser."
      ]
    },
    {
      "metadata": {
        "id": "5ekfUQW50mVy",
        "colab_type": "code",
        "outputId": "9288b90d-111e-457f-ae30-991d513a26e7",
        "colab": {
          "base_uri": "https://localhost:8080/",
          "height": 269
        }
      },
      "cell_type": "code",
      "source": [
        "# TODO\n",
        "Woptl = W[id_optl]\n",
        "print(Woptl)"
      ],
      "execution_count": 0,
      "outputs": [
        {
          "output_type": "stream",
          "text": [
            "[-0.03858879 -0.03846373 -0.03712943 -0.03461068 -0.03106823 -0.02678271\n",
            " -0.0221214  -0.01749319 -0.01329702 -0.00987121 -0.00745148 -0.00614381\n",
            " -0.00591396 -0.00659869 -0.00793306 -0.00959155 -0.01123672 -0.01256723\n",
            " -0.01335871 -0.01349177 -0.01296284 -0.01187774 -0.01042825 -0.00885704\n",
            " -0.00741679 -0.00632897 -0.00574974 -0.00574815 -0.00629801 -0.00728641\n",
            " -0.00853496 -0.00983019 -0.01095919 -0.01174169 -0.01205761 -0.01186103\n",
            " -0.01118384 -0.01012511 -0.00883146 -0.00747065 -0.00620426 -0.0051632\n",
            " -0.00443107 -0.00403698 -0.00395926 -0.00413705 -0.00448934 -0.00493454\n",
            " -0.00540922 -0.00587995 -0.00634776 -0.00684309 -0.00741314 -0.00810485\n",
            " -0.00894571 -0.0099285  -0.01100203 -0.01207253 -0.013014   -0.01368778\n",
            " -0.01396881 -0.01377215 -0.01307631 -0.01193864 -0.01049679 -0.00895844\n",
            " -0.00757575 -0.00661037 -0.00629302 -0.00678372 -0.00813948 -0.01029605\n",
            " -0.01306602 -0.0161564  -0.01920402 -0.02182224 -0.0236559  -0.02443371\n",
            " -0.02401125 -0.02239697 -0.0197575  -0.01639914 -0.01272903 -0.00919969\n",
            " -0.00624533]\n"
          ],
          "name": "stdout"
        }
      ]
    },
    {
      "metadata": {
        "id": "TWOtk8mB0mVz",
        "colab_type": "text"
      },
      "cell_type": "markdown",
      "source": [
        "## More fun\n",
        "\n",
        "If you want to more on this lab:\n",
        "* Install the [MNE python package](https://martinos.org/mne/stable/index.html).  This is an amazing package with many tools for processing EEG data.\n",
        "* In particular, you can use the above results to visualize where in the brain the currents sources are.\n",
        "* You can also improve the fitting with more regularization.  For example, we know that the currents will be non-zero in groups:  If the current is non-zero for one time, it is likely to non-zero for all time.  You can use the Group LASSO method.\n",
        "* You can combine these results to make predictions about what the patient is seeing or hearing or thinking."
      ]
    },
    {
      "metadata": {
        "id": "wz4t-hr60mV0",
        "colab_type": "code",
        "colab": {}
      },
      "cell_type": "code",
      "source": [
        ""
      ],
      "execution_count": 0,
      "outputs": []
    }
  ]
}